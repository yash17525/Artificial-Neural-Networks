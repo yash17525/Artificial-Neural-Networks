{
 "cells": [
  {
   "cell_type": "markdown",
   "metadata": {},
   "source": [
    "# Basic Hopfield Network Implementation  "
   ]
  },
  {
   "cell_type": "markdown",
   "metadata": {},
   "source": [
    "## Input patterns for training and Noisy patterns for testing the network"
   ]
  },
  {
   "cell_type": "code",
   "execution_count": 27,
   "metadata": {},
   "outputs": [],
   "source": [
    "A = \"\"\"\n",
    ".XXX.\n",
    "X...X\n",
    "XXXXX\n",
    "X...X\n",
    "X...X\n",
    "\"\"\"\n",
    "\n",
    "Z = \"\"\"\n",
    "XXXXX\n",
    "...X.\n",
    "..X..\n",
    ".X...\n",
    "XXXXX\n",
    "\"\"\"\n",
    "\n",
    "A_noisy = \"\"\"\n",
    ".XXX.\n",
    "XXxXX\n",
    "XXXXX\n",
    "X.x.X\n",
    "XX..X\n",
    "\"\"\"\n",
    "\n",
    "Z_noisy = \"\"\"\n",
    "XXXXX\n",
    "x..X.\n",
    "..XX.\n",
    ".XX.x\n",
    "XXXXX\n",
    "\"\"\""
   ]
  },
  {
   "cell_type": "markdown",
   "metadata": {},
   "source": [
    "## Displaying Patterns"
   ]
  },
  {
   "cell_type": "code",
   "execution_count": 38,
   "metadata": {},
   "outputs": [],
   "source": [
    "def to_pattern(letter):\n",
    "    return array([+1 if c=='X' else -1 for c in letter.replace('\\n','')])\n",
    "\n",
    "def display(pattern):\n",
    "    from pylab import imshow,cm,show\n",
    "    imshow(pattern.reshape((5,5)),cmap=cm.binary,interpolation='nearest')"
   ]
  },
  {
   "cell_type": "code",
   "execution_count": 40,
   "metadata": {},
   "outputs": [
    {
     "data": {
      "image/png": "[encoded data removed]",
      "text/plain": [
       "<Figure size 432x288 with 1 Axes>"
      ]
     },
     "metadata": {
      "needs_background": "light"
     },
     "output_type": "display_data"
    }
   ],
   "source": [
    "display(to_pattern(A))"
   ]
  },
  {
   "cell_type": "code",
   "execution_count": 41,
   "metadata": {},
   "outputs": [
    {
     "data": {
      "image/png": "[encoded data removed]",
      "text/plain": [
       "<Figure size 432x288 with 1 Axes>"
      ]
     },
     "metadata": {
      "needs_background": "light"
     },
     "output_type": "display_data"
    }
   ],
   "source": [
    "display(to_pattern(Z))"
   ]
  },
  {
   "cell_type": "code",
   "execution_count": 42,
   "metadata": {},
   "outputs": [
    {
     "data": {
      "image/png": "[encoded data removed]",
      "text/plain": [
       "<Figure size 432x288 with 1 Axes>"
      ]
     },
     "metadata": {
      "needs_background": "light"
     },
     "output_type": "display_data"
    }
   ],
   "source": [
    "display(to_pattern(Z_noisy))"
   ]
  },
  {
   "cell_type": "code",
   "execution_count": 43,
   "metadata": {},
   "outputs": [
    {
     "data": {
      "image/png": "[encoded data removed]",
      "text/plain": [
       "<Figure size 432x288 with 1 Axes>"
      ]
     },
     "metadata": {
      "needs_background": "light"
     },
     "output_type": "display_data"
    }
   ],
   "source": [
    "display(to_pattern(A_noisy))"
   ]
  },
  {
   "cell_type": "markdown",
   "metadata": {},
   "source": [
    "## Training and Testing"
   ]
  },
  {
   "cell_type": "code",
   "execution_count": 63,
   "metadata": {},
   "outputs": [],
   "source": [
    "from numpy import array,zeros,outer,diag_indices,vectorize,dot\n",
    "def to_pattern(letter):\n",
    "    return array([+1 if c=='X' else -1 for c in letter.replace('\\n','')])\n",
    "\n",
    "def train(patterns):\n",
    "    r,c = patterns.shape\n",
    "    W = zeros((c,c))\n",
    "    for p in patterns:\n",
    "        W = W + outer(p,p)\n",
    "    W[diag_indices(c)] = 0\n",
    "    # diagonal elements of weight matrix W are made zero\n",
    "    # because feedback from a node to itself is not allowed\n",
    "    return W/r             \n",
    "\n",
    "# Energy of Hopfield Network\n",
    "def hopfield_energy(W,patterns):\n",
    "    return array([-0.5*dot(dot(p.T,W),p) for p in patterns])\n",
    "    \n",
    "def recall(W,patterns,step = 5):\n",
    "    sgn = vectorize(lambda x: -1 if x<0 else +1) \n",
    "    # The purpose of np.vectorize is to transform functionswhich are not numpy-aware\n",
    "    # into functions that can operate on (and return) numpy arrays.\n",
    "    for _ in range(step):\n",
    "        energyList.append(hopfield_energy(W,patterns))\n",
    "        patterns = sgn(dot(patterns,W))\n",
    "    \n",
    "    return patterns\n",
    "\n",
    "patterns = array([to_pattern(A),to_pattern(Z)])\n",
    "noisy_patterns = array([to_pattern(A_noisy),to_pattern(Z_noisy)])\n",
    "# trainig process and getting ready weight matrix\n",
    "W = train(patterns)\n",
    "energyList = []\n",
    "# testing Hopfield Network for noisy patterns\n",
    "retrieved_patterns = recall(W,noisy_patterns)"
   ]
  },
  {
   "cell_type": "markdown",
   "metadata": {},
   "source": [
    "### From upper shell, we got output of energy function of the Hopfield Network for both the noisy patterns that we fed to the network.We can see that the energy of noisy patterns keeps on decreasing and it gets stable for the 3rd iteration i.e we retrieved original patter or fundamental memory for 3rd iteration of recall function."
   ]
  },
  {
   "cell_type": "code",
   "execution_count": 66,
   "metadata": {},
   "outputs": [
    {
     "data": {
      "text/plain": [
       "[array([ -80., -104.]),\n",
       " array([-150., -150.]),\n",
       " array([-150., -150.]),\n",
       " array([-150., -150.]),\n",
       " array([-150., -150.])]"
      ]
     },
     "execution_count": 66,
     "metadata": {},
     "output_type": "execute_result"
    }
   ],
   "source": [
    "energyList"
   ]
  },
  {
   "cell_type": "markdown",
   "metadata": {},
   "source": [
    "## Displaying Retrieved Patterns"
   ]
  },
  {
   "cell_type": "code",
   "execution_count": 18,
   "metadata": {},
   "outputs": [
    {
     "data": {
      "text/plain": [
       "(2, 25)"
      ]
     },
     "execution_count": 18,
     "metadata": {},
     "output_type": "execute_result"
    }
   ],
   "source": [
    "retrieved_patterns.shape"
   ]
  },
  {
   "cell_type": "code",
   "execution_count": 20,
   "metadata": {},
   "outputs": [
    {
     "data": {
      "image/png": "[encoded data removed]",
      "text/plain": [
       "<Figure size 432x288 with 1 Axes>"
      ]
     },
     "metadata": {
      "needs_background": "light"
     },
     "output_type": "display_data"
    }
   ],
   "source": [
    "display(retrieved_patterns[0])"
   ]
  },
  {
   "cell_type": "code",
   "execution_count": 21,
   "metadata": {},
   "outputs": [
    {
     "data": {
      "image/png": "[encoded data removed]",
      "text/plain": [
       "<Figure size 432x288 with 1 Axes>"
      ]
     },
     "metadata": {
      "needs_background": "light"
     },
     "output_type": "display_data"
    }
   ],
   "source": [
    "display(retrieved_patterns[1])"
   ]
  }
 ],
 "metadata": {
  "hide_input": false,
  "kernelspec": {
   "display_name": "Python 3",
   "language": "python",
   "name": "python3"
  },
  "language_info": {
   "codemirror_mode": {
    "name": "ipython",
    "version": 3
   },
   "file_extension": ".py",
   "mimetype": "text/x-python",
   "name": "python",
   "nbconvert_exporter": "python",
   "pygments_lexer": "ipython3",
   "version": "3.6.8"
  },
  "toc": {
   "base_numbering": 1,
   "nav_menu": {},
   "number_sections": true,
   "sideBar": true,
   "skip_h1_title": false,
   "title_cell": "Table of Contents",
   "title_sidebar": "Contents",
   "toc_cell": false,
   "toc_position": {},
   "toc_section_display": true,
   "toc_window_display": false
  },
  "varInspector": {
   "cols": {
    "lenName": 16,
    "lenType": 16,
    "lenVar": 40
   },
   "kernels_config": {
    "python": {
     "delete_cmd_postfix": "",
     "delete_cmd_prefix": "del ",
     "library": "var_list.py",
     "varRefreshCmd": "print(var_dic_list())"
    },
    "r": {
     "delete_cmd_postfix": ") ",
     "delete_cmd_prefix": "rm(",
     "library": "var_list.r",
     "varRefreshCmd": "cat(var_dic_list()) "
    }
   },
   "types_to_exclude": [
    "module",
    "function",
    "builtin_function_or_method",
    "instance",
    "_Feature"
   ],
   "window_display": false
  }
 },
 "nbformat": 4,
 "nbformat_minor": 2
}
